{
  "cells": [
    {
      "cell_type": "markdown",
      "metadata": {},
      "source": [
        "# Trading Data Analysis\n",
        "\n",
        "This notebook demonstrates loading historical stock data, computing technical indicators using the TA library, and visualizing results with Plotly.\n",
        "\n",
        "We'll use AAPL data from 2020 onwards.\n"
      ]
    },
    {
      "cell_type": "code",
      "execution_count": null,
      "metadata": {},
      "outputs": [],
      "source": [
        "import pandas as pd\n",
        "import yfinance as yf\n",
        "import ta\n",
        "import plotly.graph_objects as go\n",
        "from plotly.subplots import make_subplots\n",
        "from datetime import datetime\n",
        "\n",
        "# Fetch data\n",
        "symbol = 'AAPL'\n",
        "start = '2020-01-01'\n",
        "end = datetime.now().strftime('%Y-%m-%d')\n",
        "data = yf.download(symbol, start=start, end=end)\n",
        "\n",
        "# Compute indicators\n",
        "data['RSI'] = ta.momentum.RSIIndicator(data['Close']).rsi()\n",
        "data['SMA_20'] = ta.trend.SMAIndicator(data['Close'], window=20).sma_indicator()\n",
        "data['BB_upper'], data['BB_middle'], data['BB_lower'] = ta.volatility.BollingerBands(data['Close']).bollinger_hband(), ta.volatility.BollingerBands(data['Close']).bollinger_mavg(), ta.volatility.BollingerBands(data['Close']).bollinger_lband()\n",
        "\n",
        "print(data.tail())\n"
      ]
    },
    {
      "cell_type": "code",
      "execution_count": null,
      "metadata": {},
      "outputs": [],
      "source": [
        "# Visualize\n",
        "fig = make_subplots(rows=2, cols=1, shared_xaxes=True, \n",
        "                    vertical_spacing=0.03, subplot_titles=('AAPL Price and Bollinger Bands', 'RSI'),\n",
        "                    row_width=[0.2, 0.7])\n",
        "\n",
        "# Price and BB\n",
        "fig.add_trace(go.Candlestick(x=data.index, open=data['Open'], high=data['High'],\n",
        "                             low=data['Low'], close=data['Close'], name='AAPL'),\n",
        "              row=1, col=1)\n",
        "fig.add_trace(go.Scatter(x=data.index, y=data['BB_upper'], line=dict(color='blue', width=1), name='BB Upper'), row=1, col=1)\n",
        "fig.add_trace(go.Scatter(x=data.index, y=data['BB_lower'], line=dict(color='blue', width=1), name='BB Lower'), row=1, col=1)\n",
        "fig.add_trace(go.Scatter(x=data.index, y=data['SMA_20'], line=dict(color='orange'), name='SMA 20'), row=1, col=1)\n",
        "\n",
        "# RSI\n",
        "fig.add_trace(go.Scatter(x=data.index, y=data['RSI'], line=dict(color='purple'), name='RSI'), row=2, col=1)\n",
        "fig.add_hline(y=70, line_dash=\"dash\", line_color=\"red\", row=2, col=1)\n",
        "fig.add_hline(y=30, line_dash=\"dash\", line_color=\"green\", row=2, col=1)\n",
        "\n",
        "fig.update(layout_xaxis_rangeslider_visible=False)\n",
        "fig.show()\n"
      ]
    },
    {
      "cell_type": "markdown",
      "metadata": {},
      "source": [
        "## Analysis Insights\n",
        "\n",
        "- RSI above 70 indicates overbought, below 30 oversold.\n",
        "- Bollinger Bands show volatility; price touching upper/lower may signal reversal.\n",
        "- SMA 20 as trend filter.\n",
        "\n",
        "Extend this by adding more indicators or strategy simulations.\n"
      ]
    }
  ],
  "metadata": {
    "language_info": {
      "name": "python"
    }
  },
  "nbformat": 4,
  "nbformat_minor": 2
}
